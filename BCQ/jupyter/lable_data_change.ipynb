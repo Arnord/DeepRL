{
 "cells": [
  {
   "cell_type": "code",
   "execution_count": 26,
   "metadata": {},
   "outputs": [],
   "source": [
    "import numpy as np\n",
    "import os\n",
    "import random\n",
    "import pandas as pd\n",
    "import datetime\n",
    "import math\n",
    "from math import e\n",
    "import datetime\n",
    "from scipy.interpolate import interp1d\n",
    "import time, datetime\n",
    "from pandas.core.frame import DataFrame\n",
    "from db_models import GmsMonitor\n",
    "\n",
    "import matplotlib.pyplot as plt\n",
    "%matplotlib inline\n",
    "%config InlineBackend.figure_format = 'retina'"
   ]
  },
  {
   "cell_type": "code",
   "execution_count": null,
   "metadata": {},
   "outputs": [],
   "source": [
    "df = pd.read_csv('df_thickener1_20230201.csv')\n",
    "df"
   ]
  },
  {
   "cell_type": "code",
   "execution_count": null,
   "metadata": {},
   "outputs": [],
   "source": [
    "df['sum_error'] = df['error']\n",
    "df"
   ]
  },
  {
   "cell_type": "code",
   "execution_count": null,
   "metadata": {},
   "outputs": [],
   "source": [
    "num = 0\n",
    "last_done = 0\n",
    "for i in range(len(df) - 1):\n",
    "    if i == (len(df)-1):\n",
    "        break\n",
    "    # print(i)\n",
    "    if 300 < (datetime.datetime.strptime(df['time'][i+1], '%Y-%m-%d %H:%M:%S') - datetime.datetime.strptime(df['time'][i], '%Y-%m-%d %H:%M:%S')).seconds:\n",
    "        #print(\"time break\")\n",
    "        df['done'][i] = 1\n",
    "        if num < 15:\n",
    "            print(\"df_drop\")\n",
    "            df = df.drop(labels=range(last_done, i))\n",
    "            df.reset_index(drop=True, inplace=True)\n",
    "            # print(df)\n",
    "            last_done = last_done\n",
    "        else:\n",
    "            last_done = i \n",
    "        num = 0\n",
    "    else:\n",
    "        df['sum_error'][i+1] = df['error'][i+1] + 0.7 * df['sum_error'][i]\n",
    "        if df['sum_error'][i+1] > 50:\n",
    "            df['sum_error'][i+1] = 50\n",
    "        elif df['sum_error'][i+1] < -50:\n",
    "            df['sum_error'][i+1] = -50\n",
    "        num = num + 1\n",
    "    "
   ]
  },
  {
   "cell_type": "code",
   "execution_count": null,
   "metadata": {},
   "outputs": [],
   "source": [
    "df"
   ]
  },
  {
   "cell_type": "code",
   "execution_count": null,
   "metadata": {},
   "outputs": [],
   "source": [
    "df.to_csv(\"df_thickener1_20230201_change.csv\", index=False)"
   ]
  },
  {
   "cell_type": "code",
   "execution_count": null,
   "metadata": {},
   "outputs": [],
   "source": []
  }
 ],
 "metadata": {
  "kernelspec": {
   "display_name": "Python 3",
   "language": "python",
   "name": "python3"
  },
  "language_info": {
   "codemirror_mode": {
    "name": "ipython",
    "version": 3
   },
   "file_extension": ".py",
   "mimetype": "text/x-python",
   "name": "python",
   "nbconvert_exporter": "python",
   "pygments_lexer": "ipython3",
   "version": "3.8.5"
  }
 },
 "nbformat": 4,
 "nbformat_minor": 5
}
