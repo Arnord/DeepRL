{
 "cells": [
  {
   "cell_type": "code",
   "execution_count": null,
   "metadata": {},
   "outputs": [],
   "source": [
    "import sys\n",
    "sys.path.append('..')"
   ]
  },
  {
   "cell_type": "code",
   "execution_count": null,
   "metadata": {},
   "outputs": [],
   "source": [
    "import pandas as pd\n",
    "import random\n",
    "from continuous_BCQ.utils import ReplayBuffer"
   ]
  },
  {
   "cell_type": "code",
   "execution_count": null,
   "metadata": {},
   "outputs": [],
   "source": [
    "df = pd.read_csv(\"ibState0_BCQ.csv\")"
   ]
  },
  {
   "cell_type": "code",
   "execution_count": null,
   "metadata": {},
   "outputs": [],
   "source": [
    "df['done'] = 0"
   ]
  },
  {
   "cell_type": "code",
   "execution_count": null,
   "metadata": {},
   "outputs": [],
   "source": [
    "df"
   ]
  },
  {
   "cell_type": "code",
   "execution_count": null,
   "metadata": {},
   "outputs": [],
   "source": [
    "#\"name\": [\"feed_c\", \"out_c\", \"feed_f\", \"out_f\", \"out_f_setting\", \"pressure\", \"reward\"]"
   ]
  },
  {
   "cell_type": "code",
   "execution_count": null,
   "metadata": {},
   "outputs": [],
   "source": [
    "df_1 = df"
   ]
  },
  {
   "cell_type": "code",
   "execution_count": null,
   "metadata": {},
   "outputs": [],
   "source": [
    "df_1"
   ]
  },
  {
   "cell_type": "markdown",
   "metadata": {},
   "source": [
    "## 标准化"
   ]
  },
  {
   "cell_type": "code",
   "execution_count": null,
   "metadata": {},
   "outputs": [],
   "source": [
    "df_zscore = df_1.copy()\n",
    "df_zscores = (df_zscore - df_zscore.mean()) / df_zscore.std()\n",
    "df_zscores['done'] = 0\n",
    "df_zscores['p'] = 0\n",
    "df_zscores\n",
    "# df_zscores = df_zscores.drop(df_zscores.index[-1])"
   ]
  },
  {
   "cell_type": "markdown",
   "metadata": {},
   "source": [
    "## 数据集两两绑定（state和next_state）"
   ]
  },
  {
   "cell_type": "code",
   "execution_count": null,
   "metadata": {},
   "outputs": [],
   "source": [
    "df_zscores_single = [x for x in range(0, len(df_zscores), 2)]\n",
    "len(df_zscores_single)"
   ]
  },
  {
   "cell_type": "markdown",
   "metadata": {},
   "source": [
    "## 划分验证集和训练集（差集）-------两两绑定"
   ]
  },
  {
   "cell_type": "code",
   "execution_count": null,
   "metadata": {},
   "outputs": [],
   "source": [
    "df_zscores_single_eval = random.sample(df_zscores_single, 12500)"
   ]
  },
  {
   "cell_type": "code",
   "execution_count": null,
   "metadata": {},
   "outputs": [],
   "source": [
    "len(df_zscores_single_eval)"
   ]
  },
  {
   "cell_type": "code",
   "execution_count": null,
   "metadata": {},
   "outputs": [],
   "source": [
    "df_zscores_single_train = list(set(df_zscores_single) - set(df_zscores_single_eval))"
   ]
  },
  {
   "cell_type": "code",
   "execution_count": null,
   "metadata": {},
   "outputs": [],
   "source": [
    "len(df_zscores_single_train)"
   ]
  },
  {
   "cell_type": "code",
   "execution_count": null,
   "metadata": {},
   "outputs": [],
   "source": [
    "data = df_zscores.values"
   ]
  },
  {
   "cell_type": "code",
   "execution_count": null,
   "metadata": {},
   "outputs": [],
   "source": [
    "print(data[0])\n",
    "data[0][0:3]"
   ]
  },
  {
   "cell_type": "code",
   "execution_count": null,
   "metadata": {},
   "outputs": [],
   "source": [
    "state_dim = 6\n",
    "action_dim = 3"
   ]
  },
  {
   "cell_type": "code",
   "execution_count": null,
   "metadata": {},
   "outputs": [],
   "source": [
    "replay_buffer_train = ReplayBuffer(state_dim, action_dim, device=\"cpu\")\n",
    "replay_buffer_eval = ReplayBuffer(state_dim, action_dim ,device=\"cpu\")"
   ]
  },
  {
   "cell_type": "code",
   "execution_count": null,
   "metadata": {},
   "outputs": [],
   "source": [
    "for t in range(0, len(data), 2):\n",
    "    print(t)\n",
    "    if t in df_zscores_single_train:\n",
    "        state = data[t][3:-3]\n",
    "        action = data[t][0:3]\n",
    "        next_state = data[t+1][3:-3]\n",
    "        reward = data[t+1][-2]\n",
    "        done = data[t+1][-1]\n",
    "        replay_buffer_train.add(state, action, next_state, reward, done)\n",
    "        print(\"replay_buffer_train_add\", t)\n",
    "    elif t in df_zscores_single_eval:\n",
    "        state = data[t][3:-3]\n",
    "        action = data[t][0:3]\n",
    "        next_state = data[t+1][3:-3]\n",
    "        reward = data[t+1][-2]\n",
    "        done = data[t+1][-1]\n",
    "        replay_buffer_eval.add(state, action, next_state, reward, done)\n",
    "        print(\"replay_buffer_eval_add\", t)\n",
    "    else:\n",
    "        pass"
   ]
  },
  {
   "cell_type": "code",
   "execution_count": null,
   "metadata": {},
   "outputs": [],
   "source": [
    "# # 训练集\n",
    "# for t in range(len(data_train[:-1])):\n",
    "#     state = data[t][0:-4]\n",
    "#     action = data[t][-2]\n",
    "#     next_state = data[t+1][0:-4]\n",
    "#     reward = data[t+1][-3]\n",
    "#     done = data[t][-1]\n",
    "#     replay_buffer_train.add(state, action, next_state, reward, done)\n",
    "# # 验证集\n",
    "# for t in range(len(data_eval[:-1])):\n",
    "#     state = data[t][0:-4]\n",
    "#     action = data[t][-2]\n",
    "#     next_state = data[t+1][0:-4]\n",
    "#     reward = data[t+1][-3]\n",
    "#     done = data[t][-1]\n",
    "#     replay_buffer_eval.add(state, action, next_state, reward, done)"
   ]
  },
  {
   "cell_type": "code",
   "execution_count": null,
   "metadata": {},
   "outputs": [],
   "source": [
    "buffer_name = \"replay_buffer_ib\"\n",
    "replay_buffer_train.save(f\"./buffers/{buffer_name}_train\")\n",
    "replay_buffer_eval.save(f\"./buffers/{buffer_name}_eval\")"
   ]
  },
  {
   "cell_type": "code",
   "execution_count": null,
   "metadata": {},
   "outputs": [],
   "source": []
  }
 ],
 "metadata": {
  "kernelspec": {
   "display_name": "Python 3",
   "language": "python",
   "name": "python3"
  },
  "language_info": {
   "codemirror_mode": {
    "name": "ipython",
    "version": 3
   },
   "file_extension": ".py",
   "mimetype": "text/x-python",
   "name": "python",
   "nbconvert_exporter": "python",
   "pygments_lexer": "ipython3",
   "version": "3.8.5"
  }
 },
 "nbformat": 4,
 "nbformat_minor": 4
}
